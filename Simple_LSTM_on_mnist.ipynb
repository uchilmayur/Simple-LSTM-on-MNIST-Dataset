{
  "nbformat": 4,
  "nbformat_minor": 0,
  "metadata": {
    "colab": {
      "name": "Simple LSTM  on mnist",
      "provenance": []
    },
    "kernelspec": {
      "name": "python3",
      "display_name": "Python 3"
    },
    "language_info": {
      "name": "python"
    },
    "accelerator": "GPU",
    "gpuClass": "standard"
  },
  "cells": [
    {
      "cell_type": "code",
      "execution_count": 9,
      "metadata": {
        "id": "MmoVMHYtMTWF"
      },
      "outputs": [],
      "source": [
        "import keras\n",
        "from keras.datasets import mnist\n",
        "from keras.models import Sequential\n",
        "from keras.layers import CuDNNLSTM, Dense, Dropout, LSTM\n",
        "from tensorflow.keras.optimizers import Adam"
      ]
    },
    {
      "cell_type": "code",
      "source": [
        "#Importing the data\n",
        "(X_train, y_train),(X_test, y_test) = mnist.load_data()  # unpacks images to x_train/x_test and labels to y_train/y_test\n",
        "#Normalizing the data\n",
        "X_train = X_train.astype('float32') / 255.0\n",
        "X_test = X_test.astype('float32') / 255.0"
      ],
      "metadata": {
        "id": "13waneM_MaQz"
      },
      "execution_count": 10,
      "outputs": []
    },
    {
      "cell_type": "code",
      "source": [
        "#Initializing the classifier Network\n",
        "classifier = Sequential()\n",
        "\n",
        "#Adding the input LSTM network layer\n",
        "classifier.add(CuDNNLSTM(128, input_shape=(X_train.shape[1:]), return_sequences=True))\n",
        "classifier.add(Dropout(0.2))\n",
        "\n",
        "#Adding a second LSTM network layer\n",
        "classifier.add(CuDNNLSTM(128))\n",
        "\n",
        "#Adding a dense hidden layer\n",
        "classifier.add(Dense(64, activation='relu'))\n",
        "classifier.add(Dropout(0.2))\n",
        "\n",
        "#Adding the output layer\n",
        "classifier.add(Dense(10, activation='softmax'))\n",
        "\n"
      ],
      "metadata": {
        "id": "565O9TgCMuHF"
      },
      "execution_count": 11,
      "outputs": []
    },
    {
      "cell_type": "code",
      "source": [
        "#Compiling the network\n",
        "classifier.compile( loss='sparse_categorical_crossentropy',\n",
        "              optimizer=Adam(learning_rate=0.001, decay=1e-6),\n",
        "              metrics=['accuracy'] )\n",
        "\n",
        "#Fitting the data to the model\n",
        "model_history = classifier.fit(X_train,\n",
        "         y_train,\n",
        "          epochs=20,\n",
        "          validation_data=(X_test, y_test))"
      ],
      "metadata": {
        "colab": {
          "base_uri": "https://localhost:8080/"
        },
        "id": "cKSK4JibNDe4",
        "outputId": "d3e0e9d5-0f3b-4428-aa63-5fc224beee70"
      },
      "execution_count": 18,
      "outputs": [
        {
          "output_type": "stream",
          "name": "stdout",
          "text": [
            "Epoch 1/20\n",
            "1875/1875 [==============================] - 17s 7ms/step - loss: 0.0126 - accuracy: 0.9965 - val_loss: 0.0460 - val_accuracy: 0.9898\n",
            "Epoch 2/20\n",
            "1875/1875 [==============================] - 14s 7ms/step - loss: 0.0121 - accuracy: 0.9965 - val_loss: 0.0412 - val_accuracy: 0.9914\n",
            "Epoch 3/20\n",
            "1875/1875 [==============================] - 14s 7ms/step - loss: 0.0105 - accuracy: 0.9969 - val_loss: 0.0446 - val_accuracy: 0.9899\n",
            "Epoch 4/20\n",
            "1875/1875 [==============================] - 13s 7ms/step - loss: 0.0112 - accuracy: 0.9970 - val_loss: 0.0423 - val_accuracy: 0.9911\n",
            "Epoch 5/20\n",
            "1875/1875 [==============================] - 14s 7ms/step - loss: 0.0084 - accuracy: 0.9975 - val_loss: 0.0410 - val_accuracy: 0.9914\n",
            "Epoch 6/20\n",
            "1875/1875 [==============================] - 13s 7ms/step - loss: 0.0098 - accuracy: 0.9970 - val_loss: 0.0363 - val_accuracy: 0.9911\n",
            "Epoch 7/20\n",
            "1875/1875 [==============================] - 13s 7ms/step - loss: 0.0087 - accuracy: 0.9975 - val_loss: 0.0395 - val_accuracy: 0.9911\n",
            "Epoch 8/20\n",
            "1875/1875 [==============================] - 13s 7ms/step - loss: 0.0098 - accuracy: 0.9972 - val_loss: 0.0478 - val_accuracy: 0.9906\n",
            "Epoch 9/20\n",
            "1875/1875 [==============================] - 13s 7ms/step - loss: 0.0079 - accuracy: 0.9974 - val_loss: 0.0381 - val_accuracy: 0.9911\n",
            "Epoch 10/20\n",
            "1875/1875 [==============================] - 13s 7ms/step - loss: 0.0078 - accuracy: 0.9980 - val_loss: 0.0426 - val_accuracy: 0.9906\n",
            "Epoch 11/20\n",
            "1875/1875 [==============================] - 13s 7ms/step - loss: 0.0079 - accuracy: 0.9979 - val_loss: 0.0463 - val_accuracy: 0.9906\n",
            "Epoch 12/20\n",
            "1875/1875 [==============================] - 13s 7ms/step - loss: 0.0073 - accuracy: 0.9979 - val_loss: 0.0418 - val_accuracy: 0.9914\n",
            "Epoch 13/20\n",
            "1875/1875 [==============================] - 13s 7ms/step - loss: 0.0063 - accuracy: 0.9982 - val_loss: 0.0475 - val_accuracy: 0.9909\n",
            "Epoch 14/20\n",
            "1875/1875 [==============================] - 13s 7ms/step - loss: 0.0088 - accuracy: 0.9976 - val_loss: 0.0454 - val_accuracy: 0.9910\n",
            "Epoch 15/20\n",
            "1875/1875 [==============================] - 13s 7ms/step - loss: 0.0074 - accuracy: 0.9980 - val_loss: 0.0446 - val_accuracy: 0.9916\n",
            "Epoch 16/20\n",
            "1875/1875 [==============================] - 13s 7ms/step - loss: 0.0061 - accuracy: 0.9984 - val_loss: 0.0604 - val_accuracy: 0.9898\n",
            "Epoch 17/20\n",
            "1875/1875 [==============================] - 13s 7ms/step - loss: 0.0064 - accuracy: 0.9979 - val_loss: 0.0522 - val_accuracy: 0.9916\n",
            "Epoch 18/20\n",
            "1875/1875 [==============================] - 13s 7ms/step - loss: 0.0068 - accuracy: 0.9980 - val_loss: 0.0518 - val_accuracy: 0.9902\n",
            "Epoch 19/20\n",
            "1875/1875 [==============================] - 14s 7ms/step - loss: 0.0069 - accuracy: 0.9981 - val_loss: 0.0596 - val_accuracy: 0.9890\n",
            "Epoch 20/20\n",
            "1875/1875 [==============================] - 13s 7ms/step - loss: 0.0066 - accuracy: 0.9982 - val_loss: 0.0492 - val_accuracy: 0.9906\n"
          ]
        }
      ]
    },
    {
      "cell_type": "code",
      "source": [
        "test_loss, test_acc = classifier.evaluate(X_test, y_test)\n",
        "print('Test Loss: {}'.format(test_loss))\n",
        "print('Test Accuracy: {}'.format(test_acc))"
      ],
      "metadata": {
        "colab": {
          "base_uri": "https://localhost:8080/"
        },
        "id": "Vm6MvnSWNLJl",
        "outputId": "e7cff352-c2b6-41d8-fd71-36f79cb0d82d"
      },
      "execution_count": 13,
      "outputs": [
        {
          "output_type": "stream",
          "name": "stdout",
          "text": [
            "313/313 [==============================] - 1s 4ms/step - loss: 0.0445 - accuracy: 0.9898\n",
            "Test Loss: 0.044509727507829666\n",
            "Test Accuracy: 0.989799976348877\n"
          ]
        }
      ]
    },
    {
      "cell_type": "code",
      "source": [
        "import matplotlib.pyplot as plt\n",
        "\n",
        "# list all data in history\n",
        "\n",
        "print(model_history.history.keys())\n",
        "# summarize history for accuracy\n",
        "plt.plot(model_history.history['accuracy'])\n",
        "plt.plot(model_history.history['val_accuracy'])\n",
        "plt.title('model accuracy')\n",
        "plt.ylabel('accuracy')\n",
        "plt.xlabel('epoch')\n",
        "plt.legend(['train', 'test'], loc='upper left')\n",
        "plt.show()"
      ],
      "metadata": {
        "id": "5liutbrPQaNW",
        "outputId": "27989c24-ea44-4f78-d706-4ed09ed5eb97",
        "colab": {
          "base_uri": "https://localhost:8080/",
          "height": 312
        }
      },
      "execution_count": 19,
      "outputs": [
        {
          "output_type": "stream",
          "name": "stdout",
          "text": [
            "dict_keys(['loss', 'accuracy', 'val_loss', 'val_accuracy'])\n"
          ]
        },
        {
          "output_type": "display_data",
          "data": {
            "text/plain": [
              "<Figure size 432x288 with 1 Axes>"
            ],
            "image/png": "[encoded data removed]"
          },
          "metadata": {
            "needs_background": "light"
          }
        }
      ]
    },
    {
      "cell_type": "code",
      "source": [
        "# summarize history for loss\n",
        "plt.plot(model_history.history['loss'])\n",
        "plt.plot(model_history.history['val_loss'])\n",
        "plt.title('model loss')\n",
        "plt.ylabel('loss')\n",
        "plt.xlabel('epoch')\n",
        "plt.legend(['train', 'test'], loc='upper left')\n",
        "plt.show()"
      ],
      "metadata": {
        "id": "B73utaPEQaQj",
        "outputId": "413a417d-4a1a-43b2-84b7-2d96e2c1d7ef",
        "colab": {
          "base_uri": "https://localhost:8080/",
          "height": 295
        }
      },
      "execution_count": 20,
      "outputs": [
        {
          "output_type": "display_data",
          "data": {
            "text/plain": [
              "<Figure size 432x288 with 1 Axes>"
            ],
            "image/png": "[encoded data removed]"
          },
          "metadata": {
            "needs_background": "light"
          }
        }
      ]
    },
    {
      "cell_type": "code",
      "source": [
        ""
      ],
      "metadata": {
        "id": "WM6q-ZqBQaXb"
      },
      "execution_count": null,
      "outputs": []
    }
  ]
}